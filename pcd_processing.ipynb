{
 "cells": [
  {
   "cell_type": "code",
   "execution_count": 2,
   "metadata": {},
   "outputs": [
    {
     "name": "stdout",
     "output_type": "stream",
     "text": [
      "Collecting open3d\n",
      "  Downloading open3d-0.17.0-cp39-cp39-win_amd64.whl (62.6 MB)\n",
      "     --------------------------------------- 62.6/62.6 MB 10.1 MB/s eta 0:00:00\n",
      "Collecting configargparse\n",
      "  Downloading ConfigArgParse-1.7-py3-none-any.whl (25 kB)\n",
      "Collecting dash>=2.6.0\n",
      "  Downloading dash-2.13.0-py3-none-any.whl (10.4 MB)\n",
      "     --------------------------------------- 10.4/10.4 MB 12.6 MB/s eta 0:00:00\n",
      "Collecting nbformat==5.7.0\n",
      "  Downloading nbformat-5.7.0-py3-none-any.whl (77 kB)\n",
      "     ---------------------------------------- 77.1/77.1 kB 4.2 MB/s eta 0:00:00\n",
      "Collecting ipywidgets>=8.0.4\n",
      "  Downloading ipywidgets-8.1.1-py3-none-any.whl (139 kB)\n",
      "     -------------------------------------- 139.4/139.4 kB 8.1 MB/s eta 0:00:00\n",
      "Collecting werkzeug>=2.2.3\n",
      "  Downloading werkzeug-3.0.0-py3-none-any.whl (226 kB)\n",
      "     ------------------------------------- 226.6/226.6 kB 13.5 MB/s eta 0:00:00\n",
      "Requirement already satisfied: numpy>=1.18.0 in c:\\users\\ganes\\appdata\\local\\programs\\python\\python39\\lib\\site-packages (from open3d) (1.22.4)\n",
      "Requirement already satisfied: fastjsonschema in c:\\users\\ganes\\appdata\\local\\programs\\python\\python39\\lib\\site-packages (from nbformat==5.7.0->open3d) (2.16.1)\n",
      "Requirement already satisfied: jsonschema>=2.6 in c:\\users\\ganes\\appdata\\local\\programs\\python\\python39\\lib\\site-packages (from nbformat==5.7.0->open3d) (4.15.0)\n",
      "Requirement already satisfied: traitlets>=5.1 in c:\\users\\ganes\\appdata\\local\\programs\\python\\python39\\lib\\site-packages (from nbformat==5.7.0->open3d) (5.3.0)\n",
      "Requirement already satisfied: jupyter-core in c:\\users\\ganes\\appdata\\local\\programs\\python\\python39\\lib\\site-packages (from nbformat==5.7.0->open3d) (4.11.1)\n",
      "Requirement already satisfied: plotly>=5.0.0 in c:\\users\\ganes\\appdata\\local\\programs\\python\\python39\\lib\\site-packages (from dash>=2.6.0->open3d) (5.6.0)\n",
      "Requirement already satisfied: dash-html-components==2.0.0 in c:\\users\\ganes\\appdata\\local\\programs\\python\\python39\\lib\\site-packages (from dash>=2.6.0->open3d) (2.0.0)\n",
      "Requirement already satisfied: Flask<2.3.0,>=1.0.4 in c:\\users\\ganes\\appdata\\local\\programs\\python\\python39\\lib\\site-packages (from dash>=2.6.0->open3d) (2.1.0)\n",
      "Collecting retrying\n",
      "  Downloading retrying-1.3.4-py3-none-any.whl (11 kB)\n",
      "Requirement already satisfied: nest-asyncio in c:\\users\\ganes\\appdata\\local\\programs\\python\\python39\\lib\\site-packages (from dash>=2.6.0->open3d) (1.5.5)\n",
      "Requirement already satisfied: dash-core-components==2.0.0 in c:\\users\\ganes\\appdata\\local\\programs\\python\\python39\\lib\\site-packages (from dash>=2.6.0->open3d) (2.0.0)\n",
      "Requirement already satisfied: dash-table==5.0.0 in c:\\users\\ganes\\appdata\\local\\programs\\python\\python39\\lib\\site-packages (from dash>=2.6.0->open3d) (5.0.0)\n",
      "Requirement already satisfied: typing-extensions>=4.1.1 in c:\\users\\ganes\\appdata\\local\\programs\\python\\python39\\lib\\site-packages (from dash>=2.6.0->open3d) (4.4.0)\n",
      "Requirement already satisfied: setuptools in c:\\users\\ganes\\appdata\\local\\programs\\python\\python39\\lib\\site-packages (from dash>=2.6.0->open3d) (57.4.0)\n",
      "Requirement already satisfied: requests in c:\\users\\ganes\\appdata\\local\\programs\\python\\python39\\lib\\site-packages (from dash>=2.6.0->open3d) (2.28.0)\n",
      "Collecting werkzeug>=2.2.3\n",
      "  Using cached Werkzeug-2.2.3-py3-none-any.whl (233 kB)\n",
      "Collecting ansi2html\n",
      "  Downloading ansi2html-1.8.0-py3-none-any.whl (16 kB)\n",
      "Collecting widgetsnbextension~=4.0.9\n",
      "  Downloading widgetsnbextension-4.0.9-py3-none-any.whl (2.3 MB)\n",
      "     ---------------------------------------- 2.3/2.3 MB 12.2 MB/s eta 0:00:00\n",
      "Requirement already satisfied: ipython>=6.1.0 in c:\\users\\ganes\\appdata\\local\\programs\\python\\python39\\lib\\site-packages (from ipywidgets>=8.0.4->open3d) (8.4.0)\n",
      "Collecting comm>=0.1.3\n",
      "  Downloading comm-0.1.4-py3-none-any.whl (6.6 kB)\n",
      "Collecting jupyterlab-widgets~=3.0.9\n",
      "  Downloading jupyterlab_widgets-3.0.9-py3-none-any.whl (214 kB)\n",
      "     -------------------------------------- 214.9/214.9 kB 6.6 MB/s eta 0:00:00\n",
      "Requirement already satisfied: MarkupSafe>=2.1.1 in c:\\users\\ganes\\appdata\\local\\programs\\python\\python39\\lib\\site-packages (from werkzeug>=2.2.3->open3d) (2.1.1)\n",
      "Requirement already satisfied: Jinja2>=3.0 in c:\\users\\ganes\\appdata\\local\\programs\\python\\python39\\lib\\site-packages (from Flask<2.3.0,>=1.0.4->dash>=2.6.0->open3d) (3.1.1)\n",
      "Requirement already satisfied: itsdangerous>=2.0 in c:\\users\\ganes\\appdata\\local\\programs\\python\\python39\\lib\\site-packages (from Flask<2.3.0,>=1.0.4->dash>=2.6.0->open3d) (2.1.2)\n",
      "Requirement already satisfied: importlib-metadata in c:\\users\\ganes\\appdata\\local\\programs\\python\\python39\\lib\\site-packages (from Flask<2.3.0,>=1.0.4->dash>=2.6.0->open3d) (4.11.3)\n",
      "Requirement already satisfied: click>=8.0 in c:\\users\\ganes\\appdata\\local\\programs\\python\\python39\\lib\\site-packages (from Flask<2.3.0,>=1.0.4->dash>=2.6.0->open3d) (8.1.0)\n",
      "Requirement already satisfied: matplotlib-inline in c:\\users\\ganes\\appdata\\local\\programs\\python\\python39\\lib\\site-packages (from ipython>=6.1.0->ipywidgets>=8.0.4->open3d) (0.1.6)\n",
      "Requirement already satisfied: stack-data in c:\\users\\ganes\\appdata\\local\\programs\\python\\python39\\lib\\site-packages (from ipython>=6.1.0->ipywidgets>=8.0.4->open3d) (0.5.0)\n",
      "Requirement already satisfied: prompt-toolkit!=3.0.0,!=3.0.1,<3.1.0,>=2.0.0 in c:\\users\\ganes\\appdata\\local\\programs\\python\\python39\\lib\\site-packages (from ipython>=6.1.0->ipywidgets>=8.0.4->open3d) (3.0.31)\n",
      "Requirement already satisfied: jedi>=0.16 in c:\\users\\ganes\\appdata\\local\\programs\\python\\python39\\lib\\site-packages (from ipython>=6.1.0->ipywidgets>=8.0.4->open3d) (0.18.1)\n",
      "Requirement already satisfied: colorama in c:\\users\\ganes\\appdata\\local\\programs\\python\\python39\\lib\\site-packages (from ipython>=6.1.0->ipywidgets>=8.0.4->open3d) (0.4.4)\n",
      "Requirement already satisfied: pygments>=2.4.0 in c:\\users\\ganes\\appdata\\local\\programs\\python\\python39\\lib\\site-packages (from ipython>=6.1.0->ipywidgets>=8.0.4->open3d) (2.12.0)\n",
      "Requirement already satisfied: decorator in c:\\users\\ganes\\appdata\\local\\programs\\python\\python39\\lib\\site-packages (from ipython>=6.1.0->ipywidgets>=8.0.4->open3d) (5.1.1)\n",
      "Requirement already satisfied: pickleshare in c:\\users\\ganes\\appdata\\local\\programs\\python\\python39\\lib\\site-packages (from ipython>=6.1.0->ipywidgets>=8.0.4->open3d) (0.7.5)\n",
      "Requirement already satisfied: backcall in c:\\users\\ganes\\appdata\\local\\programs\\python\\python39\\lib\\site-packages (from ipython>=6.1.0->ipywidgets>=8.0.4->open3d) (0.2.0)\n",
      "Requirement already satisfied: pyrsistent!=0.17.0,!=0.17.1,!=0.17.2,>=0.14.0 in c:\\users\\ganes\\appdata\\local\\programs\\python\\python39\\lib\\site-packages (from jsonschema>=2.6->nbformat==5.7.0->open3d) (0.18.1)\n",
      "Requirement already satisfied: attrs>=17.4.0 in c:\\users\\ganes\\appdata\\local\\programs\\python\\python39\\lib\\site-packages (from jsonschema>=2.6->nbformat==5.7.0->open3d) (22.1.0)\n",
      "Requirement already satisfied: tenacity>=6.2.0 in c:\\users\\ganes\\appdata\\local\\programs\\python\\python39\\lib\\site-packages (from plotly>=5.0.0->dash>=2.6.0->open3d) (8.0.1)\n",
      "Requirement already satisfied: six in c:\\users\\ganes\\appdata\\local\\programs\\python\\python39\\lib\\site-packages (from plotly>=5.0.0->dash>=2.6.0->open3d) (1.16.0)\n",
      "Requirement already satisfied: pywin32>=1.0 in c:\\users\\ganes\\appdata\\local\\programs\\python\\python39\\lib\\site-packages (from jupyter-core->nbformat==5.7.0->open3d) (304)\n",
      "Requirement already satisfied: charset-normalizer~=2.0.0 in c:\\users\\ganes\\appdata\\local\\programs\\python\\python39\\lib\\site-packages (from requests->dash>=2.6.0->open3d) (2.0.12)\n",
      "Requirement already satisfied: certifi>=2017.4.17 in c:\\users\\ganes\\appdata\\local\\programs\\python\\python39\\lib\\site-packages (from requests->dash>=2.6.0->open3d) (2022.5.18.1)\n",
      "Requirement already satisfied: idna<4,>=2.5 in c:\\users\\ganes\\appdata\\local\\programs\\python\\python39\\lib\\site-packages (from requests->dash>=2.6.0->open3d) (3.3)\n",
      "Requirement already satisfied: urllib3<1.27,>=1.21.1 in c:\\users\\ganes\\appdata\\local\\programs\\python\\python39\\lib\\site-packages (from requests->dash>=2.6.0->open3d) (1.26.9)\n",
      "Requirement already satisfied: parso<0.9.0,>=0.8.0 in c:\\users\\ganes\\appdata\\local\\programs\\python\\python39\\lib\\site-packages (from jedi>=0.16->ipython>=6.1.0->ipywidgets>=8.0.4->open3d) (0.8.3)\n",
      "Requirement already satisfied: wcwidth in c:\\users\\ganes\\appdata\\local\\programs\\python\\python39\\lib\\site-packages (from prompt-toolkit!=3.0.0,!=3.0.1,<3.1.0,>=2.0.0->ipython>=6.1.0->ipywidgets>=8.0.4->open3d) (0.2.5)\n",
      "Requirement already satisfied: zipp>=0.5 in c:\\users\\ganes\\appdata\\local\\programs\\python\\python39\\lib\\site-packages (from importlib-metadata->Flask<2.3.0,>=1.0.4->dash>=2.6.0->open3d) (3.7.0)\n",
      "Requirement already satisfied: pure-eval in c:\\users\\ganes\\appdata\\local\\programs\\python\\python39\\lib\\site-packages (from stack-data->ipython>=6.1.0->ipywidgets>=8.0.4->open3d) (0.2.2)\n",
      "Requirement already satisfied: executing in c:\\users\\ganes\\appdata\\local\\programs\\python\\python39\\lib\\site-packages (from stack-data->ipython>=6.1.0->ipywidgets>=8.0.4->open3d) (1.0.0)\n",
      "Requirement already satisfied: asttokens in c:\\users\\ganes\\appdata\\local\\programs\\python\\python39\\lib\\site-packages (from stack-data->ipython>=6.1.0->ipywidgets>=8.0.4->open3d) (2.0.8)\n",
      "Installing collected packages: widgetsnbextension, werkzeug, retrying, jupyterlab-widgets, configargparse, comm, ansi2html, nbformat, dash, ipywidgets, open3d\n",
      "  Attempting uninstall: werkzeug\n",
      "    Found existing installation: Werkzeug 2.1.0\n",
      "    Uninstalling Werkzeug-2.1.0:\n",
      "      Successfully uninstalled Werkzeug-2.1.0\n",
      "  Attempting uninstall: nbformat\n",
      "    Found existing installation: nbformat 5.4.0\n",
      "    Uninstalling nbformat-5.4.0:\n",
      "      Successfully uninstalled nbformat-5.4.0\n",
      "  Attempting uninstall: dash\n",
      "    Found existing installation: dash 2.3.1\n",
      "    Uninstalling dash-2.3.1:\n",
      "      Successfully uninstalled dash-2.3.1\n",
      "Successfully installed ansi2html-1.8.0 comm-0.1.4 configargparse-1.7 dash-2.13.0 ipywidgets-8.1.1 jupyterlab-widgets-3.0.9 nbformat-5.7.0 open3d-0.17.0 retrying-1.3.4 werkzeug-2.2.3 widgetsnbextension-4.0.9\n"
     ]
    },
    {
     "name": "stderr",
     "output_type": "stream",
     "text": [
      "\n",
      "[notice] A new release of pip is available: 23.0.1 -> 23.2.1\n",
      "[notice] To update, run: python.exe -m pip install --upgrade pip\n"
     ]
    }
   ],
   "source": [
    "!pip3 install open3d"
   ]
  },
  {
   "cell_type": "code",
   "execution_count": 12,
   "metadata": {},
   "outputs": [],
   "source": [
    "import numpy as np"
   ]
  },
  {
   "cell_type": "code",
   "execution_count": 3,
   "metadata": {},
   "outputs": [
    {
     "name": "stdout",
     "output_type": "stream",
     "text": [
      "Jupyter environment detected. Enabling Open3D WebVisualizer.\n",
      "[Open3D INFO] WebRTC GUI backend enabled.\n",
      "[Open3D INFO] WebRTCWindowSystem: HTTP handshake server disabled.\n"
     ]
    }
   ],
   "source": [
    "import open3d as o3d"
   ]
  },
  {
   "cell_type": "code",
   "execution_count": 4,
   "metadata": {},
   "outputs": [
    {
     "name": "stdout",
     "output_type": "stream",
     "text": [
      "[Open3D INFO] Downloading https://github.com/isl-org/open3d_downloads/releases/download/20220201-data/fragment.ply\n",
      "[Open3D INFO] Downloaded to C:\\Users\\ganes/open3d_data/download/PLYPointCloud/fragment.ply\n"
     ]
    }
   ],
   "source": [
    "pcd = o3d.data.PLYPointCloud()"
   ]
  },
  {
   "cell_type": "code",
   "execution_count": 6,
   "metadata": {},
   "outputs": [],
   "source": [
    "data = o3d.io.read_point_cloud(\"C:/Users/ganes/open3d_data/download/PLYPointCloud/fragment.ply\")"
   ]
  },
  {
   "cell_type": "code",
   "execution_count": 9,
   "metadata": {},
   "outputs": [
    {
     "data": {
      "text/plain": [
       "<Type.Image: 8>"
      ]
     },
     "execution_count": 9,
     "metadata": {},
     "output_type": "execute_result"
    }
   ],
   "source": [
    "data.Image"
   ]
  },
  {
   "cell_type": "code",
   "execution_count": 13,
   "metadata": {},
   "outputs": [
    {
     "name": "stdout",
     "output_type": "stream",
     "text": [
      "[Open3D WARNING] Read JSON failed: unable to open file: camera.json\n",
      "[Open3D WARNING] GLFW Error: WGL: Failed to make context current: The requested transformation operation is not supported. \n",
      "[Open3D WARNING] GLFW Error: WGL: Failed to make context current: The requested transformation operation is not supported. \n",
      "[Open3D WARNING] GLFW Error: WGL: Failed to make context current: The handle is invalid. \n",
      "[Open3D WARNING] GLFW Error: WGL: Failed to make context current: The requested transformation operation is not supported. \n"
     ]
    }
   ],
   "source": [
    "\n",
    "# Create a random point cloud for demonstration\n",
    "num_points = 1000\n",
    "points = np.random.rand(num_points, 3)  # Replace this with your point cloud data\n",
    "\n",
    "# Create an Open3D point cloud object\n",
    "pcd = o3d.geometry.PointCloud()\n",
    "pcd.points = o3d.utility.Vector3dVector(points)\n",
    "\n",
    "# Create a visualizer object\n",
    "vis = o3d.visualization.Visualizer()\n",
    "vis.create_window()\n",
    "\n",
    "# Add the point cloud to the visualizer\n",
    "vis.add_geometry(pcd)\n",
    "\n",
    "# Set up camera view\n",
    "vis.get_render_option().load_from_json(\"camera.json\")  # Optional, to set camera view\n",
    "\n",
    "# Start rendering\n",
    "vis.run()\n",
    "\n",
    "# Close the visualizer when you're done\n",
    "vis.destroy_window()\n"
   ]
  },
  {
   "cell_type": "code",
   "execution_count": 16,
   "metadata": {},
   "outputs": [],
   "source": [
    "distances = pcd.compute_nearest_neighbor_distance()"
   ]
  },
  {
   "cell_type": "code",
   "execution_count": 17,
   "metadata": {},
   "outputs": [
    {
     "name": "stdout",
     "output_type": "stream",
     "text": [
      "Minimum distance: 0.008542517923471299\n",
      "Maximum distance: 0.14571756444558465\n",
      "Mean distance: 0.05732295070999915\n"
     ]
    }
   ],
   "source": [
    "print(\"Minimum distance:\", np.min(distances))\n",
    "print(\"Maximum distance:\", np.max(distances))\n",
    "print(\"Mean distance:\", np.mean(distances))"
   ]
  },
  {
   "cell_type": "code",
   "execution_count": 18,
   "metadata": {},
   "outputs": [
    {
     "name": "stdout",
     "output_type": "stream",
     "text": [
      "[Open3D WARNING] GLFW Error: WGL: Failed to make context current: The handle is invalid. \n"
     ]
    }
   ],
   "source": [
    "o3d.visualization.draw_geometries([data],\n",
    "                                  zoom=0.3412,\n",
    "                                  front=[0.4257, -0.2125, -0.8795],\n",
    "                                  lookat=[2.6172, 2.0475, 1.532],\n",
    "                                  up=[-0.0694, -0.9768, 0.2024])"
   ]
  },
  {
   "cell_type": "code",
   "execution_count": 24,
   "metadata": {},
   "outputs": [
    {
     "name": "stdout",
     "output_type": "stream",
     "text": [
      "Downsample the point cloud with a voxel of 0.05\n",
      "[Open3D WARNING] GLFW Error: WGL: Failed to make context current: The requested transformation operation is not supported. \n",
      "[Open3D WARNING] GLFW Error: WGL: Failed to make context current: The requested transformation operation is not supported. \n"
     ]
    }
   ],
   "source": [
    "print(\"Downsample the point cloud with a voxel of 0.05\")\n",
    "downpcd = data.voxel_down_sample(voxel_size=0.000001)\n",
    "o3d.visualization.draw_geometries([downpcd],\n",
    "                                  zoom=0.3412,\n",
    "                                  front=[0.4257, -0.2125, -0.8795],\n",
    "                                  lookat=[2.6172, 2.0475, 1.532],\n",
    "                                  up=[-0.0694, -0.9768, 0.2024])"
   ]
  },
  {
   "cell_type": "code",
   "execution_count": 25,
   "metadata": {},
   "outputs": [
    {
     "name": "stdout",
     "output_type": "stream",
     "text": [
      "Load a polygon volume and use it to crop the original point cloud\n",
      "[Open3D INFO] Downloading https://github.com/isl-org/open3d_downloads/releases/download/20220201-data/DemoCropPointCloud.zip\n",
      "[Open3D INFO] Downloaded to C:\\Users\\ganes/open3d_data/download/DemoCropPointCloud/DemoCropPointCloud.zip\n",
      "[Open3D INFO] Created directory C:\\Users\\ganes/open3d_data/extract/DemoCropPointCloud.\n",
      "[Open3D INFO] Extracting C:\\Users\\ganes/open3d_data/download/DemoCropPointCloud/DemoCropPointCloud.zip.\n",
      "[Open3D INFO] Extracted to C:\\Users\\ganes/open3d_data/extract/DemoCropPointCloud.\n",
      "[Open3D WARNING] GLFW Error: WGL: Failed to make context current: The requested transformation operation is not supported. \n",
      "[Open3D WARNING] GLFW Error: WGL: Failed to make context current: The handle is invalid. \n"
     ]
    }
   ],
   "source": [
    "print(\"Load a polygon volume and use it to crop the original point cloud\")\n",
    "demo_crop_data = o3d.data.DemoCropPointCloud()\n",
    "pcd = o3d.io.read_point_cloud(demo_crop_data.point_cloud_path)\n",
    "vol = o3d.visualization.read_selection_polygon_volume(demo_crop_data.cropped_json_path)\n",
    "chair = vol.crop_point_cloud(pcd)\n",
    "o3d.visualization.draw_geometries([chair],\n",
    "                                  zoom=0.7,\n",
    "                                  front=[0.5439, -0.2333, -0.8060],\n",
    "                                  lookat=[2.4615, 2.1331, 1.338],\n",
    "                                  up=[-0.1781, -0.9708, 0.1608])\n"
   ]
  },
  {
   "cell_type": "code",
   "execution_count": 29,
   "metadata": {},
   "outputs": [
    {
     "name": "stdout",
     "output_type": "stream",
     "text": [
      "Paint chair\n"
     ]
    }
   ],
   "source": [
    "print(\"Paint chair\")\n",
    "chair.paint_uniform_color([1, 0.2, 0.9])\n",
    "o3d.visualization.draw_geometries([chair],\n",
    "                                  zoom=0.7,\n",
    "                                  front=[0.5439, -0.2333, -0.8060],\n",
    "                                  lookat=[2.4615, 2.1331, 1.338],\n",
    "                                  up=[-0.1781, -0.9708, 0.1608])"
   ]
  },
  {
   "cell_type": "code",
   "execution_count": 30,
   "metadata": {},
   "outputs": [
    {
     "name": "stdout",
     "output_type": "stream",
     "text": [
      "[Open3D INFO] Downloading https://github.com/isl-org/open3d_downloads/releases/download/20220201-data/fragment.pcd\n",
      "[Open3D INFO] Downloaded to C:\\Users\\ganes/open3d_data/download/PCDPointCloud/fragment.pcd\n",
      "Plane equation: -0.05x + -0.10y + 0.99z + -1.06 = 0\n",
      "[Open3D WARNING] GLFW Error: WGL: Failed to make context current: The requested transformation operation is not supported. \n"
     ]
    }
   ],
   "source": [
    "pcd_point_cloud = o3d.data.PCDPointCloud()\n",
    "pcd = o3d.io.read_point_cloud(pcd_point_cloud.path)\n",
    "\n",
    "plane_model, inliers = pcd.segment_plane(distance_threshold=0.01,\n",
    "                                         ransac_n=3,\n",
    "                                         num_iterations=1000)\n",
    "[a, b, c, d] = plane_model\n",
    "print(f\"Plane equation: {a:.2f}x + {b:.2f}y + {c:.2f}z + {d:.2f} = 0\")\n",
    "\n",
    "inlier_cloud = pcd.select_by_index(inliers)\n",
    "inlier_cloud.paint_uniform_color([1.0, 0, 0])\n",
    "outlier_cloud = pcd.select_by_index(inliers, invert=True)\n",
    "o3d.visualization.draw_geometries([inlier_cloud, outlier_cloud],\n",
    "                                  zoom=0.8,\n",
    "                                  front=[-0.4999, -0.1659, -0.8499],\n",
    "                                  lookat=[2.1813, 2.0619, 2.0999],\n",
    "                                  up=[0.1204, -0.9852, 0.1215])"
   ]
  }
 ],
 "metadata": {
  "kernelspec": {
   "display_name": "Python 3",
   "language": "python",
   "name": "python3"
  },
  "language_info": {
   "codemirror_mode": {
    "name": "ipython",
    "version": 3
   },
   "file_extension": ".py",
   "mimetype": "text/x-python",
   "name": "python",
   "nbconvert_exporter": "python",
   "pygments_lexer": "ipython3",
   "version": "3.9.7"
  },
  "orig_nbformat": 4
 },
 "nbformat": 4,
 "nbformat_minor": 2
}
